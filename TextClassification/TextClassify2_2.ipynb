{
  "nbformat": 4,
  "nbformat_minor": 0,
  "metadata": {
    "colab": {
      "name": "TextClassify2/2.ipynb",
      "provenance": [],
      "collapsed_sections": []
    },
    "kernelspec": {
      "name": "python3",
      "display_name": "Python 3"
    },
    "language_info": {
      "name": "python"
    }
  },
  "cells": [
    {
      "cell_type": "markdown",
      "metadata": {
        "id": "PVabPsqN-Hoj"
      },
      "source": [
        "\n",
        "\n",
        "# Text classification w/ sentiment analysis\n",
        "In this document I follow the tutorial from https://www.tensorflow.org/tutorials/keras/text_classification\n",
        "\n",
        "\n",
        "#Tutorial 2:\n",
        "Stackoverflow"
      ]
    },
    {
      "cell_type": "code",
      "metadata": {
        "id": "iJQN5oYn-Myb"
      },
      "source": [
        "import matplotlib.pyplot as plt\n",
        "import os\n",
        "import re\n",
        "import shutil\n",
        "import string\n",
        "import tensorflow as tf\n",
        "\n",
        "from tensorflow.keras import layers\n",
        "from tensorflow.keras import losses\n",
        "from tensorflow.keras import preprocessing\n",
        "from tensorflow.keras.layers.experimental.preprocessing import TextVectorization"
      ],
      "execution_count": 1,
      "outputs": []
    },
    {
      "cell_type": "code",
      "metadata": {
        "id": "tSXZafV1_hNF"
      },
      "source": [
        "url = 'http://storage.googleapis.com/download.tensorflow.org/data/stack_overflow_16k.tar.gz'\n",
        "\n",
        "dataset = tf.keras.utils.get_file(\"stack_overflow_16k\", origin=url,\n",
        "                                    untar=True, cache_dir='.',\n",
        "                                    cache_subdir='')\n",
        "# print(tf.keras.utils.get_file(\"stack_overflow_16k\", url,\n",
        "#                                     untar=True, cache_dir='.',\n",
        "#                                     cache_subdir=''))\n",
        "dataset_dir = os.path.join(os.path.dirname(dataset), 'stack_overflow')"
      ],
      "execution_count": 25,
      "outputs": []
    },
    {
      "cell_type": "code",
      "metadata": {
        "colab": {
          "base_uri": "https://localhost:8080/"
        },
        "id": "KIK94JVo_2NT",
        "outputId": "4023fe55-1a17-4021-b4bd-7b415b4eb7a0"
      },
      "source": [
        "os.listdir(dataset_dir)"
      ],
      "execution_count": 26,
      "outputs": [
        {
          "output_type": "execute_result",
          "data": {
            "text/plain": [
              "['test', 'train']"
            ]
          },
          "metadata": {
            "tags": []
          },
          "execution_count": 26
        }
      ]
    },
    {
      "cell_type": "code",
      "metadata": {
        "colab": {
          "base_uri": "https://localhost:8080/"
        },
        "id": "7-Bv24noE8GJ",
        "outputId": "7a4d1595-5879-4a6d-8007-b151173d001b"
      },
      "source": [
        "train_dir = os.path.join(dataset_dir, 'train')\n",
        "os.listdir(train_dir)"
      ],
      "execution_count": 27,
      "outputs": [
        {
          "output_type": "execute_result",
          "data": {
            "text/plain": [
              "['java', 'csharp', 'javascript', 'python']"
            ]
          },
          "metadata": {
            "tags": []
          },
          "execution_count": 27
        }
      ]
    },
    {
      "cell_type": "code",
      "metadata": {
        "colab": {
          "base_uri": "https://localhost:8080/"
        },
        "id": "tXY3uUBQE9Pe",
        "outputId": "6f52f572-cc88-49b0-841b-3236bbf95eb2"
      },
      "source": [
        "sample_file = os.path.join(train_dir, 'python/1.txt')\n",
        "with open(sample_file) as f:\n",
        "  print(f.read())"
      ],
      "execution_count": 28,
      "outputs": [
        {
          "output_type": "stream",
          "text": [
            "\"how to create an infinite loop with apply_async? i havea pool of processes with apply_async in which the different processes take different times to provide output. once one process is finished i do some calculations with their output. after i want to launch another process. in this way i want to create an infinite loop which launches processes, reads the output of the recently finished process, does some calculations and relaunches another process...so far i have been able to do what i want except that the main process gets stuck in the get() function. this because i don't know which process terminated and hence which entry of results i should do get()...some attempt code:..import multiprocessing as mp.import numpy as np.from time import sleep...def squared(x,y):.    result = np.array((x,x)).    if x%2 == 0:.    sleep(2) .return result.....if __name__ == \"\"__main__\"\":..    pool = mp.pool() ..    pool_r = [].    for i in xrange(0,8):.        pool_r.append(pool.apply_async(squared, (i,i)))..    count_results = 0..    for j in xrange(0,10):.        result = pool_r[count_results].get().        print result.        count_results += 1.        pool_r.append(pool.apply_async(squared, (j,j)))..    pool.close().    pool.join()...and the output is: .    [0 0].    [1 1].    [2 2].    [3 3].    [4 4].    [5 5].    [6 6].    [7 7].    [0 0].    [1 1]..instead of the odd numbers first and then the even ones (since these ones have a sleep)...any suggestions?....thank you very much for your fast reply abarnert. ..in reality i want to keep an infinite loop after the processes are completed (i need their results to be able to enter the loop). ..q1 - if i create a pool with 30 works can i submit more than 30 processes? will the computer wait for one to finish to put another to work? ..q2 - in your code there is a callback function. however, the code that the i need to run when one worker finishes has to be in the main process since i have to update variables which will be sent to the new processes that i create...q3 - the code that the main process does takes, let say 10% of the time that the processes need to realize their tasks. so is it a good approach to have the main process to realize some calculations and then launch new processes? ..q4 - right now if i ctrl+c the code only terminates when all the processes are over. what can i do to be able to terminate the code as soon as i do ctrl+c? and finally, after my comment do you think futures is still the way to go?..some pseudo-code for what i need:..launch several processes.wait for the results..launch several processes..while true:..    get results from a recently finished process..    do some calculations..    launch two more processes..    # some ending condition\"\n",
            "\n"
          ],
          "name": "stdout"
        }
      ]
    },
    {
      "cell_type": "code",
      "metadata": {
        "colab": {
          "base_uri": "https://localhost:8080/"
        },
        "id": "pKaL4vpqFHYx",
        "outputId": "5f4b61ce-dc47-4518-f5c6-16ea3d910f72"
      },
      "source": [
        "batch_size = 32\n",
        "seed = 42\n",
        "\n",
        "raw_train_ds = tf.keras.preprocessing.text_dataset_from_directory(\n",
        "    'stack_overflow/train', \n",
        "    batch_size=batch_size, \n",
        "    validation_split=0.2, \n",
        "    subset='training', \n",
        "    seed=seed)"
      ],
      "execution_count": 30,
      "outputs": [
        {
          "output_type": "stream",
          "text": [
            "Found 8000 files belonging to 4 classes.\n",
            "Using 6400 files for training.\n"
          ],
          "name": "stdout"
        }
      ]
    },
    {
      "cell_type": "code",
      "metadata": {
        "colab": {
          "base_uri": "https://localhost:8080/"
        },
        "id": "S8hj1MT_Gbx5",
        "outputId": "d146e40b-83d2-4db2-fa36-5a664c259eca"
      },
      "source": [
        "for text_batch, label_batch in raw_train_ds.take(1):\n",
        "  for i in range(3):\n",
        "    print(\"Question\", text_batch.numpy()[i])\n",
        "    print(\"Label\", label_batch.numpy()[i])"
      ],
      "execution_count": 31,
      "outputs": [
        {
          "output_type": "stream",
          "text": [
            "Question b'\"my tester is going to the wrong constructor i am new to programming so if i ask a question that can be easily fixed, please forgive me. my program has a tester class with a main. when i send that to my regularpolygon class, it sends it to the wrong constructor. i have two constructors. 1 without perameters..public regularpolygon().    {.       mynumsides = 5;.       mysidelength = 30;.    }//end default constructor...and my second, with perameters. ..public regularpolygon(int numsides, double sidelength).    {.        mynumsides = numsides;.        mysidelength = sidelength;.    }// end constructor...in my tester class i have these two lines:..regularpolygon shape = new regularpolygon(numsides, sidelength);.        shape.menu();...numsides and sidelength were declared and initialized earlier in the testing class...so what i want to happen, is the tester class sends numsides and sidelength to the second constructor and use it in that class. but it only uses the default constructor, which therefor ruins the whole rest of the program. can somebody help me?..for those of you who want to see more of my code: here you go..public double vertexangle().    {.        system.out.println(\"\"the vertex angle method: \"\" + mynumsides);// prints out 5.        system.out.println(\"\"the vertex angle method: \"\" + mysidelength); // prints out 30..        double vertexangle;.        vertexangle = ((mynumsides - 2.0) / mynumsides) * 180.0;.        return vertexangle;.    }//end method vertexangle..public void menu().{.    system.out.println(mynumsides); // prints out what the user puts in.    system.out.println(mysidelength); // prints out what the user puts in.    gotographic();.    calcr(mynumsides, mysidelength);.    calcr(mynumsides, mysidelength);.    print(); .}// end menu...this is my entire tester class:..public static void main(string[] arg).{.    int numsides;.    double sidelength;.    scanner keyboard = new scanner(system.in);..    system.out.println(\"\"welcome to the regular polygon program!\"\");.    system.out.println();..    system.out.print(\"\"enter the number of sides of the polygon ==&gt; \"\");.    numsides = keyboard.nextint();.    system.out.println();..    system.out.print(\"\"enter the side length of each side ==&gt; \"\");.    sidelength = keyboard.nextdouble();.    system.out.println();..    regularpolygon shape = new regularpolygon(numsides, sidelength);.    shape.menu();.}//end main...for testing it i sent it numsides 4 and sidelength 100.\"\\n'\n",
            "Label 1\n",
            "Question b'\"blank code slow skin detection this code changes the color space to lab and using a threshold finds the skin area of an image. but it\\'s ridiculously slow. i don\\'t know how to make it faster ?    ..from colormath.color_objects import *..def skindetection(img, treshold=80, color=[255,20,147]):..    print img.shape.    res=img.copy().    for x in range(img.shape[0]):.        for y in range(img.shape[1]):.            rgbimg=rgbcolor(img[x,y,0],img[x,y,1],img[x,y,2]).            labimg=rgbimg.convert_to(\\'lab\\', debug=false).            if (labimg.lab_l &gt; treshold):.                res[x,y,:]=color.            else: .                res[x,y,:]=img[x,y,:]..    return res\"\\n'\n",
            "Label 3\n",
            "Question b'\"option and validation in blank i want to add a new option on my system where i want to add two text files, both rental.txt and customer.txt. inside each text are id numbers of the customer, the videotape they need and the price...i want to place it as an option on my code. right now i have:...add customer.rent return.view list.search.exit...i want to add this as my sixth option. say for example i ordered a video, it would display the price and would let me confirm the price and if i am going to buy it or not...here is my current code:..  import blank.io.*;.    import blank.util.arraylist;.    import static blank.lang.system.out;..    public class rentalsystem{.    static bufferedreader input = new bufferedreader(new inputstreamreader(system.in));.    static file file = new file(\"\"file.txt\"\");.    static arraylist&lt;string&gt; list = new arraylist&lt;string&gt;();.    static int rows;..    public static void main(string[] args) throws exception{.        introduction();.        system.out.print(\"\"nn\"\");.        login();.        system.out.print(\"\"nnnnnnnnnnnnnnnnnnnnnn\"\");.        introduction();.        string repeat;.        do{.            loadfile();.            system.out.print(\"\"nwhat do you want to do?nn\"\");.            system.out.print(\"\"n                    - - - - - - - - - - - - - - - - - - - - - - -\"\");.            system.out.print(\"\"nn                    |     1. add customer    |   2. rent return |n\"\");.            system.out.print(\"\"n                    - - - - - - - - - - - - - - - - - - - - - - -\"\");.            system.out.print(\"\"nn                    |     3. view list       |   4. search      |n\"\");.            system.out.print(\"\"n                    - - - - - - - - - - - - - - - - - - - - - - -\"\");.            system.out.print(\"\"nn                                             |   5. exit        |n\"\");.            system.out.print(\"\"n                                              - - - - - - - - - -\"\");.            system.out.print(\"\"nnchoice:\"\");.            int choice = integer.parseint(input.readline());.            switch(choice){.                case 1:.                    writedata();.                    break;.                case 2:.                    rentdata();.                    break;.                case 3:.                    viewlist();.                    break;.                case 4:.                    search();.                    break;.                case 5:.                    system.out.println(\"\"goodbye!\"\");.                    system.exit(0);.                default:.                    system.out.print(\"\"invalid choice: \"\");.                    break;.            }.            system.out.print(\"\"ndo another task? [y/n] \"\");.            repeat = input.readline();.        }while(repeat.equals(\"\"y\"\"));..        if(repeat!=\"\"y\"\") system.out.println(\"\"ngoodbye!\"\");..    }..    public static void writedata() throws exception{.        system.out.print(\"\"nname: \"\");.        string cname = input.readline();.        system.out.print(\"\"address: \"\");.        string add = input.readline();.        system.out.print(\"\"phone no.: \"\");.        string pno = input.readline();.        system.out.print(\"\"rental amount: \"\");.        string ramount = input.readline();.        system.out.print(\"\"tapenumber: \"\");.        string tno = input.readline();.        system.out.print(\"\"title: \"\");.        string title = input.readline();.        system.out.print(\"\"date borrowed: \"\");.        string dborrowed = input.readline();.        system.out.print(\"\"due date: \"\");.        string ddate = input.readline();.        createline(cname, add, pno, ramount,tno, title, dborrowed, ddate);.        rentdata();.    }..    public static void createline(string name, string address, string phone , string rental, string tapenumber, string title, string borrowed, string due) throws exception{.        filewriter fw = new filewriter(file, true);.        fw.write(\"\"nname: \"\"+name + \"\"naddress: \"\" + address +\"\"nphone no.: \"\"+ phone+\"\"nrentalamount: \"\"+rental+\"\"ntape no.: \"\"+ tapenumber+\"\"ntitle: \"\"+ title+\"\"ndate borrowed: \"\"+borrowed +\"\"ndue date: \"\"+ due+\"\":rn\"\");.        fw.close();.    }..    public static void loadfile() throws exception{.        try{.            list.clear();.            fileinputstream fstream = new fileinputstream(file);.            bufferedreader br = new bufferedreader(new inputstreamreader(fstream));.            rows = 0;.            while( br.ready()).            {.                list.add(br.readline());.                rows++;.            }.            br.close();.        } catch(exception e){.            system.out.println(\"\"list not yet loaded.\"\");.        }.    }..    public static void viewlist(){.        system.out.print(\"\"n~ ~ ~ ~ ~ ~ ~ ~ ~ ~ ~\"\");.        system.out.print(\"\" |list of all costumers|\"\");.        system.out.print(\"\"~ ~ ~ ~ ~ ~ ~ ~ ~ ~ ~\"\");.        for(int i = 0; i &lt;rows; i++){.            system.out.println(list.get(i));.        }.    }.        public static void rentdata()throws exception.    {   system.out.print(\"\"n~ ~ ~ ~ ~ ~ ~ ~ ~ ~ ~\"\");.        system.out.print(\"\" |rent data list|\"\");.        system.out.print(\"\"~ ~ ~ ~ ~ ~ ~ ~ ~ ~ ~\"\");.        system.out.print(\"\"nenter customer name: \"\");.        string cname = input.readline();.        system.out.print(\"\"date borrowed: \"\");.        string dborrowed = input.readline();.        system.out.print(\"\"due date: \"\");.        string ddate = input.readline();.        system.out.print(\"\"return date: \"\");.        string rdate = input.readline();.        system.out.print(\"\"rent amount: \"\");.        string ramount = input.readline();..        system.out.print(\"\"you pay:\"\"+ramount);...    }.    public static void search()throws exception.    {   system.out.print(\"\"n~ ~ ~ ~ ~ ~ ~ ~ ~ ~ ~\"\");.        system.out.print(\"\" |search costumers|\"\");.        system.out.print(\"\"~ ~ ~ ~ ~ ~ ~ ~ ~ ~ ~\"\");.        system.out.print(\"\"nenter costumer name: \"\");.        string cname = input.readline();.        boolean found = false;..        for(int i=0; i &lt; rows; i++){.            string temp[] = list.get(i).split(\"\",\"\");..            if(cname.equals(temp[0])){.            system.out.println(\"\"search result:nyou are \"\" + temp[0] + \"\" from \"\" + temp[1] + \"\".\"\"+ temp[2] + \"\".\"\"+ temp[3] + \"\".\"\"+ temp[4] + \"\".\"\"+ temp[5] + \"\" is \"\" + temp[6] + \"\".\"\"+ temp[7] + \"\" is \"\" + temp[8] + \"\".\"\");.                found = true;.            }.        }..        if(!found){.            system.out.print(\"\"no results.\"\");.        }..    }..        public static boolean evaluate(string uname, string pass){.        if (uname.equals(\"\"admin\"\")&amp;&amp;pass.equals(\"\"12345\"\")) return true;.        else return false;.    }..    public static string login()throws exception{.        bufferedreader input=new bufferedreader(new inputstreamreader(system.in));.        int counter=0;.        do{.            system.out.print(\"\"username:\"\");.            string uname =input.readline();.            system.out.print(\"\"password:\"\");.            string pass =input.readline();..            boolean accept= evaluate(uname,pass);..            if(accept){.                break;.                }else{.                    system.out.println(\"\"incorrect username or password!\"\");.                    counter ++;.                    }.        }while(counter&lt;3);..            if(counter !=3) return \"\"login successful\"\";.            else return \"\"login failed\"\";.            }.        public static void introduction() throws exception{..        system.out.println(\"\"                  - - - - - - - - - - - - - - - - - - - - - - - - -\"\");.        system.out.println(\"\"                  !                  r e n t a l                  !\"\");.        system.out.println(\"\"                   ! ~ ~ ~ ~ ~ !  =================  ! ~ ~ ~ ~ ~ !\"\");.        system.out.println(\"\"                  !                  s y s t e m                  !\"\");.        system.out.println(\"\"                  - - - - - - - - - - - - - - - - - - - - - - - - -\"\");.        }..}\"\\n'\n",
            "Label 1\n"
          ],
          "name": "stdout"
        }
      ]
    },
    {
      "cell_type": "code",
      "metadata": {
        "colab": {
          "base_uri": "https://localhost:8080/"
        },
        "id": "uqPO-6a3Gi9B",
        "outputId": "22f5e071-38e3-4e50-d3ec-e4649aa6a04a"
      },
      "source": [
        "print(\"Label 0 corresponds to\", raw_train_ds.class_names[0])\n",
        "print(\"Label 1 corresponds to\", raw_train_ds.class_names[1])\n",
        "print(\"Label 2 corresponds to\", raw_train_ds.class_names[2])\n",
        "print(\"Label 3 corresponds to\", raw_train_ds.class_names[3])"
      ],
      "execution_count": 33,
      "outputs": [
        {
          "output_type": "stream",
          "text": [
            "Label 0 corresponds to csharp\n",
            "Label 1 corresponds to java\n",
            "Label 2 corresponds to javascript\n",
            "Label 3 corresponds to python\n"
          ],
          "name": "stdout"
        }
      ]
    },
    {
      "cell_type": "code",
      "metadata": {
        "colab": {
          "base_uri": "https://localhost:8080/"
        },
        "id": "ceRysMcjGtAo",
        "outputId": "e7ea6818-7dcf-4ec4-8cfe-3fb953365dfb"
      },
      "source": [
        "raw_val_ds = tf.keras.preprocessing.text_dataset_from_directory(\n",
        "    'stack_overflow/train', \n",
        "    batch_size=batch_size, \n",
        "    validation_split=0.2, \n",
        "    subset='validation', \n",
        "    seed=seed)"
      ],
      "execution_count": 35,
      "outputs": [
        {
          "output_type": "stream",
          "text": [
            "Found 8000 files belonging to 4 classes.\n",
            "Using 1600 files for validation.\n"
          ],
          "name": "stdout"
        }
      ]
    },
    {
      "cell_type": "code",
      "metadata": {
        "colab": {
          "base_uri": "https://localhost:8080/"
        },
        "id": "mvN__PdrG1ht",
        "outputId": "9eef7042-84b1-46ca-dd77-120121d4fd7e"
      },
      "source": [
        "raw_test_ds = tf.keras.preprocessing.text_dataset_from_directory(\n",
        "    'stack_overflow/test', \n",
        "    batch_size=batch_size)"
      ],
      "execution_count": 39,
      "outputs": [
        {
          "output_type": "stream",
          "text": [
            "Found 8000 files belonging to 4 classes.\n"
          ],
          "name": "stdout"
        }
      ]
    },
    {
      "cell_type": "code",
      "metadata": {
        "id": "PZ3lXLJNG_sj"
      },
      "source": [
        "def custom_standardization(input_data):\n",
        "  lowercase = tf.strings.lower(input_data)\n",
        "  stripped_html = tf.strings.regex_replace(lowercase, '<br />', ' ')\n",
        "  return tf.strings.regex_replace(stripped_html,\n",
        "                                  '[%s]' % re.escape(string.punctuation),\n",
        "                                  '')"
      ],
      "execution_count": 40,
      "outputs": []
    },
    {
      "cell_type": "code",
      "metadata": {
        "id": "oluWnuXTHBMf"
      },
      "source": [
        "max_features = 10000\n",
        "sequence_length = 250\n",
        "\n",
        "vectorize_layer = TextVectorization(\n",
        "    standardize=custom_standardization,\n",
        "    max_tokens=max_features,\n",
        "    output_mode='int',\n",
        "    output_sequence_length=sequence_length)"
      ],
      "execution_count": 41,
      "outputs": []
    },
    {
      "cell_type": "code",
      "metadata": {
        "id": "ngX23yjNHEHn"
      },
      "source": [
        "# Make a text-only dataset (without labels), then call adapt\n",
        "train_text = raw_train_ds.map(lambda x, y: x)\n",
        "vectorize_layer.adapt(train_text)"
      ],
      "execution_count": 43,
      "outputs": []
    },
    {
      "cell_type": "code",
      "metadata": {
        "id": "mbzyHcqMHL8S"
      },
      "source": [
        "def vectorize_text(text, label):\n",
        "  text = tf.expand_dims(text, -1)\n",
        "  return vectorize_layer(text), label"
      ],
      "execution_count": 44,
      "outputs": []
    },
    {
      "cell_type": "code",
      "metadata": {
        "colab": {
          "base_uri": "https://localhost:8080/"
        },
        "id": "CcAIsVwCHPJ6",
        "outputId": "5430b12c-f837-4c78-e469-6fe6a66da6ca"
      },
      "source": [
        "# retrieve a batch (of 32 reviews and labels) from the dataset\n",
        "text_batch, label_batch = next(iter(raw_train_ds))\n",
        "first_review, first_label = text_batch[0], label_batch[0]\n",
        "print(\"Review\", first_review)\n",
        "print(\"Label\", raw_train_ds.class_names[first_label])\n",
        "print(\"Vectorized review\", vectorize_text(first_review, first_label))"
      ],
      "execution_count": 45,
      "outputs": [
        {
          "output_type": "stream",
          "text": [
            "Review tf.Tensor(b'\"set blank to quit on exception? i\\'m using blank 3..i\\'ve been looking around for an answer to this, but i haven\\'t found it yet. basically, i\\'m running several blank scripts into a game engine, and each script has its own entry point...i\\'d rather not add try: except blocks through all of my code, so i was wondering if it\\'s at all possible to tell blank to quit (or perhaps assign a custom function to that \"\"callback\"\") on finding its first error, regardless of where or what it found? ..currently, the game engine will continue after finding and hitting an error, making it more difficult than necessary to diagnose issues since running into one error may make a subsequent script not work (as it relies on variables that the error-ing script set, for example). any ideas? ..i know that i could redirect the console to a file to allow for easier scrolling, but just capturing the first error and stopping the game prematurely would be really useful...okay, a couple of extra bits of info - sorry for neglecting to say this. the engine i\\'m using (the blender game engine) is coded in c, so changing the source is more than i\\'d like to do.....after googling, it would appear that a similar question with a solid answer has been asked here, which is how to get the last raised exception. if i check the sys module for the presence of the last_value variable and it exists, then i can quit prematurely, as the console would have already printed out the error...thanks for the help.\"\\n', shape=(), dtype=string)\n",
            "Label python\n",
            "Vectorized review (<tf.Tensor: shape=(1, 250), dtype=int64, numpy=\n",
            "array([[ 107,   16,    4, 1139,   37,  184,   52,   47,   16,    1,  215,\n",
            "         417,  518,   12,   32,  182,    4,   13,   26,    3, 1416,  227,\n",
            "          11,  894,  627,   52,  309,  718,   16, 1274,  100,    5,  244,\n",
            "        1826,    8,  119,  224,   95,   97,  657,  858,    1,  797,   20,\n",
            "         125,  117,  559, 2282,  194,   73,    9,   23,   30,   50,    3,\n",
            "         115,  566,   10,   97,   59,   73,  204,    4,  412,   16,    4,\n",
            "        1139,   45, 1670,  601,    5,  694,   38,    4,   14,  851,   37,\n",
            "         967,   97,   98,   65, 2374,    9,  132,   45,   55,   11,  227,\n",
            "         401,    2,  244, 1826,   72,  534,  156,  967,    8, 7808,   32,\n",
            "          65,  468,   11,  181, 2332,  198, 1461,    4,    1, 1093,  447,\n",
            "         309,  100,   71,   65,  454,  109,    5, 3560,  224,   20,  139,\n",
            "          36,   11, 9052,   37,  233,   14,    2,    1,  224,  107,   12,\n",
            "         137,   76,  779,    3,  102,   14,    3,  176, 1853,    2,  332,\n",
            "           4,    5,   39,    4,  787,   12, 1320, 3579,   26,  106,    1,\n",
            "           2,   98,   65,    8, 2902,    2,  244,    1,   69,   33,  336,\n",
            "           1,    5, 1759,    9, 1157, 2531,    9,  568,  729,   12,    1,\n",
            "           4,  321,   13,    2, 1826,   52,   47,    2,    1,  244, 1826,\n",
            "           6, 2619,    7,  131,   50,  801,    2,  313,    6,  181,  198,\n",
            "         142,   48,    4,    1, 3965,   11,   69,  882,   14,    5,  520,\n",
            "         159,   21,    5, 1706,  182,   95,  215,  912,  101,   66,    6,\n",
            "          24,    4,   41,    2,  218, 2918,  184,   10,    3,  186,    2,\n",
            "        1358,  380,   12,    2, 9151,    9,    2,    1,  116,    8,   11,\n",
            "         758,   87,    3,   35, 1139,    1,   36,    2]])>, <tf.Tensor: shape=(), dtype=int32, numpy=3>)\n"
          ],
          "name": "stdout"
        }
      ]
    },
    {
      "cell_type": "code",
      "metadata": {
        "colab": {
          "base_uri": "https://localhost:8080/"
        },
        "id": "Pl1CzHcgHiQ5",
        "outputId": "cfa17fbf-1a2c-4a6e-c3b2-ac33d57b0e41"
      },
      "source": [
        "print(\"1287 ---> \",vectorize_layer.get_vocabulary()[1287])\n",
        "print(\" 313 ---> \",vectorize_layer.get_vocabulary()[313])\n",
        "print('Vocabulary size: {}'.format(len(vectorize_layer.get_vocabulary())))"
      ],
      "execution_count": 46,
      "outputs": [
        {
          "output_type": "stream",
          "text": [
            "1287 --->  scissors\n",
            " 313 --->  source\n",
            "Vocabulary size: 10000\n"
          ],
          "name": "stdout"
        }
      ]
    },
    {
      "cell_type": "code",
      "metadata": {
        "id": "I8BqlSNlHmQv"
      },
      "source": [
        "train_ds = raw_train_ds.map(vectorize_text)\n",
        "val_ds = raw_val_ds.map(vectorize_text)\n",
        "test_ds = raw_test_ds.map(vectorize_text)"
      ],
      "execution_count": 47,
      "outputs": []
    },
    {
      "cell_type": "code",
      "metadata": {
        "id": "0Fta36WZHxFH"
      },
      "source": [
        "AUTOTUNE = tf.data.AUTOTUNE\n",
        "\n",
        "train_ds = train_ds.cache().prefetch(buffer_size=AUTOTUNE)\n",
        "val_ds = val_ds.cache().prefetch(buffer_size=AUTOTUNE)\n",
        "test_ds = test_ds.cache().prefetch(buffer_size=AUTOTUNE)"
      ],
      "execution_count": 48,
      "outputs": []
    },
    {
      "cell_type": "code",
      "metadata": {
        "colab": {
          "base_uri": "https://localhost:8080/"
        },
        "id": "ObPDeKpOH3Xw",
        "outputId": "d0c26cb5-b769-47e9-b5a7-aa29696adb98"
      },
      "source": [
        "embedding_dim = 16\n",
        "model = tf.keras.Sequential([\n",
        "  layers.Embedding(max_features + 1, embedding_dim),\n",
        "  layers.Dropout(0.2),\n",
        "  layers.GlobalAveragePooling1D(),\n",
        "  layers.Dropout(0.2),\n",
        "  layers.Dense(4)])\n",
        "\n",
        "model.summary()"
      ],
      "execution_count": 53,
      "outputs": [
        {
          "output_type": "stream",
          "text": [
            "Model: \"sequential_2\"\n",
            "_________________________________________________________________\n",
            "Layer (type)                 Output Shape              Param #   \n",
            "=================================================================\n",
            "embedding_2 (Embedding)      (None, None, 16)          160016    \n",
            "_________________________________________________________________\n",
            "dropout_4 (Dropout)          (None, None, 16)          0         \n",
            "_________________________________________________________________\n",
            "global_average_pooling1d_2 ( (None, 16)                0         \n",
            "_________________________________________________________________\n",
            "dropout_5 (Dropout)          (None, 16)                0         \n",
            "_________________________________________________________________\n",
            "dense_2 (Dense)              (None, 4)                 68        \n",
            "=================================================================\n",
            "Total params: 160,084\n",
            "Trainable params: 160,084\n",
            "Non-trainable params: 0\n",
            "_________________________________________________________________\n"
          ],
          "name": "stdout"
        }
      ]
    },
    {
      "cell_type": "code",
      "metadata": {
        "id": "3pMap5J1H7zM"
      },
      "source": [
        "model.compile(loss=tf.keras.losses.SparseCategoricalCrossentropy(from_logits=True),\n",
        "              optimizer='adam',\n",
        "              metrics=['accuracy'])"
      ],
      "execution_count": 58,
      "outputs": []
    },
    {
      "cell_type": "code",
      "metadata": {
        "colab": {
          "base_uri": "https://localhost:8080/"
        },
        "id": "oLiA0kf7H_xZ",
        "outputId": "89e6990f-b804-413f-b300-97057e0e8bbe"
      },
      "source": [
        "epochs = 50\n",
        "history = model.fit(\n",
        "    train_ds,\n",
        "    validation_data=val_ds,\n",
        "    epochs=epochs)"
      ],
      "execution_count": 60,
      "outputs": [
        {
          "output_type": "stream",
          "text": [
            "Epoch 1/50\n",
            "200/200 [==============================] - 1s 7ms/step - loss: 0.7790 - accuracy: 0.7817 - val_loss: 0.7924 - val_accuracy: 0.7731\n",
            "Epoch 2/50\n",
            "200/200 [==============================] - 2s 8ms/step - loss: 0.7348 - accuracy: 0.7961 - val_loss: 0.7583 - val_accuracy: 0.7794\n",
            "Epoch 3/50\n",
            "200/200 [==============================] - 2s 8ms/step - loss: 0.7001 - accuracy: 0.8053 - val_loss: 0.7286 - val_accuracy: 0.7837\n",
            "Epoch 4/50\n",
            "200/200 [==============================] - 2s 8ms/step - loss: 0.6693 - accuracy: 0.8175 - val_loss: 0.7030 - val_accuracy: 0.7894\n",
            "Epoch 5/50\n",
            "200/200 [==============================] - 2s 8ms/step - loss: 0.6378 - accuracy: 0.8270 - val_loss: 0.6804 - val_accuracy: 0.7906\n",
            "Epoch 6/50\n",
            "200/200 [==============================] - 2s 8ms/step - loss: 0.6070 - accuracy: 0.8334 - val_loss: 0.6591 - val_accuracy: 0.8006\n",
            "Epoch 7/50\n",
            "200/200 [==============================] - 2s 8ms/step - loss: 0.5844 - accuracy: 0.8405 - val_loss: 0.6402 - val_accuracy: 0.8012\n",
            "Epoch 8/50\n",
            "200/200 [==============================] - 2s 8ms/step - loss: 0.5601 - accuracy: 0.8514 - val_loss: 0.6234 - val_accuracy: 0.8044\n",
            "Epoch 9/50\n",
            "200/200 [==============================] - 2s 8ms/step - loss: 0.5377 - accuracy: 0.8550 - val_loss: 0.6086 - val_accuracy: 0.8037\n",
            "Epoch 10/50\n",
            "200/200 [==============================] - 2s 8ms/step - loss: 0.5154 - accuracy: 0.8630 - val_loss: 0.5947 - val_accuracy: 0.8062\n",
            "Epoch 11/50\n",
            "200/200 [==============================] - 2s 8ms/step - loss: 0.4980 - accuracy: 0.8644 - val_loss: 0.5819 - val_accuracy: 0.8087\n",
            "Epoch 12/50\n",
            "200/200 [==============================] - 2s 8ms/step - loss: 0.4789 - accuracy: 0.8712 - val_loss: 0.5706 - val_accuracy: 0.8106\n",
            "Epoch 13/50\n",
            "200/200 [==============================] - 2s 8ms/step - loss: 0.4621 - accuracy: 0.8811 - val_loss: 0.5600 - val_accuracy: 0.8131\n",
            "Epoch 14/50\n",
            "200/200 [==============================] - 2s 8ms/step - loss: 0.4445 - accuracy: 0.8839 - val_loss: 0.5500 - val_accuracy: 0.8163\n",
            "Epoch 15/50\n",
            "200/200 [==============================] - 2s 8ms/step - loss: 0.4309 - accuracy: 0.8864 - val_loss: 0.5414 - val_accuracy: 0.8194\n",
            "Epoch 16/50\n",
            "200/200 [==============================] - 1s 7ms/step - loss: 0.4158 - accuracy: 0.8933 - val_loss: 0.5335 - val_accuracy: 0.8213\n",
            "Epoch 17/50\n",
            "200/200 [==============================] - 2s 8ms/step - loss: 0.4030 - accuracy: 0.8944 - val_loss: 0.5258 - val_accuracy: 0.8231\n",
            "Epoch 18/50\n",
            "200/200 [==============================] - 2s 8ms/step - loss: 0.3903 - accuracy: 0.9011 - val_loss: 0.5189 - val_accuracy: 0.8244\n",
            "Epoch 19/50\n",
            "200/200 [==============================] - 2s 8ms/step - loss: 0.3779 - accuracy: 0.9011 - val_loss: 0.5132 - val_accuracy: 0.8256\n",
            "Epoch 20/50\n",
            "200/200 [==============================] - 1s 7ms/step - loss: 0.3647 - accuracy: 0.9072 - val_loss: 0.5076 - val_accuracy: 0.8288\n",
            "Epoch 21/50\n",
            "200/200 [==============================] - 2s 8ms/step - loss: 0.3535 - accuracy: 0.9091 - val_loss: 0.5026 - val_accuracy: 0.8294\n",
            "Epoch 22/50\n",
            "200/200 [==============================] - 2s 8ms/step - loss: 0.3417 - accuracy: 0.9134 - val_loss: 0.4978 - val_accuracy: 0.8331\n",
            "Epoch 23/50\n",
            "200/200 [==============================] - 2s 8ms/step - loss: 0.3318 - accuracy: 0.9167 - val_loss: 0.4943 - val_accuracy: 0.8325\n",
            "Epoch 24/50\n",
            "200/200 [==============================] - 2s 8ms/step - loss: 0.3219 - accuracy: 0.9202 - val_loss: 0.4905 - val_accuracy: 0.8338\n",
            "Epoch 25/50\n",
            "200/200 [==============================] - 2s 8ms/step - loss: 0.3117 - accuracy: 0.9198 - val_loss: 0.4870 - val_accuracy: 0.8331\n",
            "Epoch 26/50\n",
            "200/200 [==============================] - 2s 8ms/step - loss: 0.3029 - accuracy: 0.9255 - val_loss: 0.4843 - val_accuracy: 0.8350\n",
            "Epoch 27/50\n",
            "200/200 [==============================] - 2s 8ms/step - loss: 0.2959 - accuracy: 0.9259 - val_loss: 0.4816 - val_accuracy: 0.8369\n",
            "Epoch 28/50\n",
            "200/200 [==============================] - 2s 9ms/step - loss: 0.2844 - accuracy: 0.9311 - val_loss: 0.4784 - val_accuracy: 0.8344\n",
            "Epoch 29/50\n",
            "200/200 [==============================] - 2s 8ms/step - loss: 0.2764 - accuracy: 0.9305 - val_loss: 0.4762 - val_accuracy: 0.8331\n",
            "Epoch 30/50\n",
            "200/200 [==============================] - 2s 8ms/step - loss: 0.2701 - accuracy: 0.9323 - val_loss: 0.4742 - val_accuracy: 0.8325\n",
            "Epoch 31/50\n",
            "200/200 [==============================] - 1s 7ms/step - loss: 0.2612 - accuracy: 0.9364 - val_loss: 0.4722 - val_accuracy: 0.8363\n",
            "Epoch 32/50\n",
            "200/200 [==============================] - 2s 8ms/step - loss: 0.2552 - accuracy: 0.9367 - val_loss: 0.4715 - val_accuracy: 0.8356\n",
            "Epoch 33/50\n",
            "200/200 [==============================] - 1s 7ms/step - loss: 0.2478 - accuracy: 0.9409 - val_loss: 0.4710 - val_accuracy: 0.8369\n",
            "Epoch 34/50\n",
            "200/200 [==============================] - 2s 8ms/step - loss: 0.2393 - accuracy: 0.9439 - val_loss: 0.4703 - val_accuracy: 0.8369\n",
            "Epoch 35/50\n",
            "200/200 [==============================] - 2s 8ms/step - loss: 0.2307 - accuracy: 0.9445 - val_loss: 0.4686 - val_accuracy: 0.8350\n",
            "Epoch 36/50\n",
            "200/200 [==============================] - 2s 8ms/step - loss: 0.2240 - accuracy: 0.9486 - val_loss: 0.4691 - val_accuracy: 0.8369\n",
            "Epoch 37/50\n",
            "200/200 [==============================] - 2s 8ms/step - loss: 0.2196 - accuracy: 0.9475 - val_loss: 0.4684 - val_accuracy: 0.8350\n",
            "Epoch 38/50\n",
            "200/200 [==============================] - 1s 7ms/step - loss: 0.2120 - accuracy: 0.9505 - val_loss: 0.4685 - val_accuracy: 0.8325\n",
            "Epoch 39/50\n",
            "200/200 [==============================] - 2s 8ms/step - loss: 0.2076 - accuracy: 0.9531 - val_loss: 0.4681 - val_accuracy: 0.8325\n",
            "Epoch 40/50\n",
            "200/200 [==============================] - 2s 8ms/step - loss: 0.2021 - accuracy: 0.9541 - val_loss: 0.4688 - val_accuracy: 0.8319\n",
            "Epoch 41/50\n",
            "200/200 [==============================] - 2s 8ms/step - loss: 0.1949 - accuracy: 0.9559 - val_loss: 0.4700 - val_accuracy: 0.8325\n",
            "Epoch 42/50\n",
            "200/200 [==============================] - 2s 8ms/step - loss: 0.1895 - accuracy: 0.9567 - val_loss: 0.4697 - val_accuracy: 0.8325\n",
            "Epoch 43/50\n",
            "200/200 [==============================] - 2s 8ms/step - loss: 0.1867 - accuracy: 0.9544 - val_loss: 0.4711 - val_accuracy: 0.8313\n",
            "Epoch 44/50\n",
            "200/200 [==============================] - 2s 8ms/step - loss: 0.1801 - accuracy: 0.9584 - val_loss: 0.4726 - val_accuracy: 0.8319\n",
            "Epoch 45/50\n",
            "200/200 [==============================] - 2s 8ms/step - loss: 0.1754 - accuracy: 0.9616 - val_loss: 0.4724 - val_accuracy: 0.8331\n",
            "Epoch 46/50\n",
            "200/200 [==============================] - 2s 8ms/step - loss: 0.1675 - accuracy: 0.9639 - val_loss: 0.4744 - val_accuracy: 0.8350\n",
            "Epoch 47/50\n",
            "200/200 [==============================] - 2s 8ms/step - loss: 0.1663 - accuracy: 0.9647 - val_loss: 0.4745 - val_accuracy: 0.8356\n",
            "Epoch 48/50\n",
            "200/200 [==============================] - 2s 8ms/step - loss: 0.1605 - accuracy: 0.9664 - val_loss: 0.4765 - val_accuracy: 0.8344\n",
            "Epoch 49/50\n",
            "200/200 [==============================] - 2s 8ms/step - loss: 0.1562 - accuracy: 0.9656 - val_loss: 0.4777 - val_accuracy: 0.8375\n",
            "Epoch 50/50\n",
            "200/200 [==============================] - 2s 8ms/step - loss: 0.1509 - accuracy: 0.9673 - val_loss: 0.4800 - val_accuracy: 0.8356\n"
          ],
          "name": "stdout"
        }
      ]
    },
    {
      "cell_type": "code",
      "metadata": {
        "colab": {
          "base_uri": "https://localhost:8080/"
        },
        "id": "Mft3ZQBHJON0",
        "outputId": "dd37bdbd-d670-4912-ac32-598ae6f77c08"
      },
      "source": [
        "loss, accuracy = model.evaluate(test_ds)\n",
        "\n",
        "print(\"Loss: \", loss)\n",
        "print(\"Accuracy: \", accuracy)"
      ],
      "execution_count": 61,
      "outputs": [
        {
          "output_type": "stream",
          "text": [
            "250/250 [==============================] - 3s 12ms/step - loss: 0.5485 - accuracy: 0.8019\n",
            "Loss:  0.5485388040542603\n",
            "Accuracy:  0.8018749952316284\n"
          ],
          "name": "stdout"
        }
      ]
    },
    {
      "cell_type": "code",
      "metadata": {
        "colab": {
          "base_uri": "https://localhost:8080/"
        },
        "id": "hy6Tr-qSJSBC",
        "outputId": "94246249-abef-4b3d-e206-925d81d5cc17"
      },
      "source": [
        "history_dict = history.history\n",
        "history_dict.keys()"
      ],
      "execution_count": 62,
      "outputs": [
        {
          "output_type": "execute_result",
          "data": {
            "text/plain": [
              "dict_keys(['loss', 'accuracy', 'val_loss', 'val_accuracy'])"
            ]
          },
          "metadata": {
            "tags": []
          },
          "execution_count": 62
        }
      ]
    },
    {
      "cell_type": "code",
      "metadata": {
        "colab": {
          "base_uri": "https://localhost:8080/",
          "height": 295
        },
        "id": "VqeHLaBTJVXT",
        "outputId": "1c693e07-2153-4a84-8127-6aa625512b9c"
      },
      "source": [
        "acc = history_dict['accuracy']\n",
        "val_acc = history_dict['val_accuracy']\n",
        "loss = history_dict['loss']\n",
        "val_loss = history_dict['val_loss']\n",
        "\n",
        "epochs = range(1, len(acc) + 1)\n",
        "\n",
        "# \"bo\" is for \"blue dot\"\n",
        "plt.plot(epochs, loss, 'bo', label='Training loss')\n",
        "# b is for \"solid blue line\"\n",
        "plt.plot(epochs, val_loss, 'b', label='Validation loss')\n",
        "plt.title('Training and validation loss')\n",
        "plt.xlabel('Epochs')\n",
        "plt.ylabel('Loss')\n",
        "plt.legend()\n",
        "\n",
        "plt.show()"
      ],
      "execution_count": 64,
      "outputs": [
        {
          "output_type": "display_data",
          "data": {
            "image/png": "[encoded data removed]",
            "text/plain": [
              "<Figure size 432x288 with 1 Axes>"
            ]
          },
          "metadata": {
            "tags": [],
            "needs_background": "light"
          }
        }
      ]
    },
    {
      "cell_type": "code",
      "metadata": {
        "colab": {
          "base_uri": "https://localhost:8080/",
          "height": 295
        },
        "id": "gY-PzU9yJgXc",
        "outputId": "a7916282-42e2-4d51-a3e2-f3146b4925e8"
      },
      "source": [
        "plt.plot(epochs, acc, 'bo', label='Training acc')\n",
        "plt.plot(epochs, val_acc, 'b', label='Validation acc')\n",
        "plt.title('Training and validation accuracy')\n",
        "plt.xlabel('Epochs')\n",
        "plt.ylabel('Accuracy')\n",
        "plt.legend(loc='lower right')\n",
        "\n",
        "plt.show()"
      ],
      "execution_count": 65,
      "outputs": [
        {
          "output_type": "display_data",
          "data": {
            "image/png": "[encoded data removed]",
            "text/plain": [
              "<Figure size 432x288 with 1 Axes>"
            ]
          },
          "metadata": {
            "tags": [],
            "needs_background": "light"
          }
        }
      ]
    },
    {
      "cell_type": "code",
      "metadata": {
        "colab": {
          "base_uri": "https://localhost:8080/"
        },
        "id": "LlWaq7AZJlFh",
        "outputId": "ee862658-3271-4b56-fec2-695631adf937"
      },
      "source": [
        "export_model = tf.keras.Sequential([\n",
        "  vectorize_layer,\n",
        "  model,\n",
        "  layers.Activation('sigmoid')\n",
        "])\n",
        "\n",
        "export_model.compile(\n",
        "    loss=tf.keras.losses.SparseCategoricalCrossentropy(from_logits=False), optimizer=\"adam\", metrics=['accuracy']\n",
        ")\n",
        "\n",
        "# Test it with `raw_test_ds`, which yields raw strings\n",
        "loss, accuracy = export_model.evaluate(raw_test_ds)\n",
        "print(accuracy)"
      ],
      "execution_count": 67,
      "outputs": [
        {
          "output_type": "stream",
          "text": [
            "250/250 [==============================] - 4s 13ms/step - loss: 0.5485 - accuracy: 0.8019\n",
            "0.8018749952316284\n"
          ],
          "name": "stdout"
        }
      ]
    },
    {
      "cell_type": "code",
      "metadata": {
        "colab": {
          "base_uri": "https://localhost:8080/"
        },
        "id": "dvy5l8RJJxln",
        "outputId": "a7d150d9-046a-4b86-c77d-3bbdaa49a951"
      },
      "source": [
        "examples = [\n",
        "  \"Bootstrapping dataframe and calculate metrics using Pandas\",\n",
        "  \"How can I cast int to enum?\",\n",
        "  \"What is a monad?\"\n",
        "]\n",
        "\n",
        "export_model.predict(examples)"
      ],
      "execution_count": 68,
      "outputs": [
        {
          "output_type": "execute_result",
          "data": {
            "text/plain": [
              "array([[0.52385473, 0.29573306, 0.44977367, 0.8043049 ],\n",
              "       [0.70925987, 0.75528216, 0.2275354 , 0.15268221],\n",
              "       [0.55905807, 0.497007  , 0.53957236, 0.3885843 ]], dtype=float32)"
            ]
          },
          "metadata": {
            "tags": []
          },
          "execution_count": 68
        }
      ]
    }
  ]
}